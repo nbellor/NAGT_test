{
 "cells": [
  {
   "cell_type": "markdown",
   "id": "12994c63",
   "metadata": {},
   "source": [
    "# Testing NAGphormer"
   ]
  },
  {
   "cell_type": "markdown",
   "id": "a8107383",
   "metadata": {},
   "source": [
    "## Regular cmd run"
   ]
  },
  {
   "cell_type": "code",
   "execution_count": null,
   "id": "e57c73e4",
   "metadata": {},
   "outputs": [],
   "source": [
    "!python train.py --dataset photo --batch_size 2000 --dropout 0.1 --hidden_dim 128 \\\n",
    "          --hops 3  --n_heads 8 --n_layers 1 --pe_dim 10 --peak_lr 0.001  --weight_decay=1e-05 "
   ]
  },
  {
   "cell_type": "markdown",
   "id": "6883ca52",
   "metadata": {},
   "source": [
    "## Interactive train.py and model.py "
   ]
  },
  {
   "cell_type": "code",
   "execution_count": null,
   "id": "34c60d16",
   "metadata": {},
   "outputs": [],
   "source": []
  }
 ],
 "metadata": {
  "kernelspec": {
   "display_name": "Python [conda env:NAHGphormer]",
   "language": "python",
   "name": "conda-env-NAHGphormer-py"
  },
  "language_info": {
   "codemirror_mode": {
    "name": "ipython",
    "version": 3
   },
   "file_extension": ".py",
   "mimetype": "text/x-python",
   "name": "python",
   "nbconvert_exporter": "python",
   "pygments_lexer": "ipython3",
   "version": "3.11.3"
  }
 },
 "nbformat": 4,
 "nbformat_minor": 5
}
